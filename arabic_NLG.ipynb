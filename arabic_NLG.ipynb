{
 "cells": [
  {
   "cell_type": "code",
   "execution_count": 209,
   "metadata": {},
   "outputs": [],
   "source": [
    "plurals = {\"ẓarf\": \"ẓuru:f\",\n",
    "          \"ʔana:\": \"ʔiḥna:\",\n",
    "           \"ʔinta\": \"ʔintu:\",\n",
    "           \"ʔinti:\": \"ʔintu:\",\n",
    "           \"huwwa\": \"humma\",\n",
    "           \"hiyya\": \"humma\"}\n",
    "\n",
    "pronouns = {\"1\": [\"ʔana:\", \"ʔiḥna:\"],\n",
    "       \"2\": [\"ʔinta\", \"ʔinti:\", \"ʔintu:\"],\n",
    "       \"3\": [\"huwwa\", \"hiyya\", \"humma\"]}\n",
    "\n",
    "        # lemma: [1/2-perfect stem, present stem]\n",
    "verbs = {\"fataḥ\": [\"fataḥ\", \"ftaḥ\"],\n",
    "         \"ša:f\": [\"šuf\", \"šu:f\"]}\n",
    "\n",
    "prepositions = {\"INSTRUMENT\": \"bi-\",\n",
    "                \"INDIRECT\": \"li-\",\n",
    "                \"CONCOMITATIVE\": \"maʕa\"}\n",
    "\n",
    "perfect_inflection = {\"ʔana:\": [\"-t\"],\n",
    "                      \"ʔiḥna:\": [\"-na:\"],\n",
    "                      \"ʔinta\": [\"-t\"],\n",
    "                      \"ʔinti:\": [\"-ti:\"],\n",
    "                      \"ʔintu:\": [\"-tu:\"],\n",
    "                      \"huwwa\": [],\n",
    "                      \"hiyya\": [\"-it\"],\n",
    "                      \"humma\": [\"-u:\"]}"
   ]
  },
  {
   "cell_type": "code",
   "execution_count": 94,
   "metadata": {},
   "outputs": [],
   "source": [
    "def pluralize(w):\n",
    "    if w in pronouns:\n",
    "        return pronouns[w]\n",
    "    else:\n",
    "        return nouns[w]"
   ]
  },
  {
   "cell_type": "code",
   "execution_count": 201,
   "metadata": {},
   "outputs": [],
   "source": [
    "def get_pronoun(id):\n",
    "    s = semantics[id]\n",
    "    \n",
    "    person = s[1]\n",
    "    gender = s[2]\n",
    "    number = s[3]\n",
    "    animacy = s[5]\n",
    "\n",
    "    if (gender == \"FEMININE\" and person != \"1\") or (number == \"PLURAL\" and animacy == \"INANIMATE\" and gender not in \"12\"):\n",
    "        return pronouns[person][-2]\n",
    "    elif number == \"PLURAL\":\n",
    "        return pronouns[person][-1]\n",
    "    else:\n",
    "        return pronouns[person][0]"
   ]
  },
  {
   "cell_type": "code",
   "execution_count": 185,
   "metadata": {},
   "outputs": [],
   "source": [
    "def conjugate_verb(id_verb, id_subject):\n",
    "    \"\"\" returns list of strings corresponding to conjugated verb (not including obj. suffixes) \"\"\"\n",
    "    \n",
    "    s_verb = semantics[id_verb]\n",
    "    s_subject = semantics[id_subject]\n",
    "    \n",
    "    root = s_verb[0]\n",
    "    tense = s_verb[1]\n",
    "    \n",
    "    person = s_subject[1]\n",
    "    gender = s_subject[2]\n",
    "    number = s_subject[3]\n",
    "    \n",
    "    animacy = s_subject[5]\n",
    "\n",
    "    if animacy == \"INANIMATE\" and number == \"PLURAL\" and person not in \"12\":\n",
    "        gender = \"FEMININE\"\n",
    "        number = \"SINGULAR\"\n",
    "        \n",
    "    subject_pronoun = get_pronoun(id_subject)\n",
    "    \n",
    "    verb_morphology = []\n",
    "    \n",
    "    if tense == \"PERFECT\":\n",
    "        verb_morphology = perfect_inflection[subject_pronoun]\n",
    "        if person in \"12\":\n",
    "            return [verbs[root][0]] + verb_morphology\n",
    "        else:\n",
    "            return [root] + verb_morphology\n",
    "    \n",
    "    # no modals/aux verbs yet\n",
    "    \n",
    "    return None\n",
    "    "
   ]
  },
  {
   "cell_type": "code",
   "execution_count": 186,
   "metadata": {},
   "outputs": [],
   "source": [
    "def print_sentence(ls):\n",
    "    \"\"\" Prints a list of sentence elements, joined with spaces \"\"\"\n",
    "    new_list = []\n",
    "    for element in ls:\n",
    "        if element[0]=='-' and new_list[-1]==' ':\n",
    "            new_list = new_list[:-1]\n",
    "        new_list.append(element)\n",
    "        if element[-1]=='-':\n",
    "            continue\n",
    "        new_list.append(\" \")\n",
    "    sentence = \"\".join(new_list[:-1])\n",
    "    return sentence + \".\""
   ]
  },
  {
   "cell_type": "code",
   "execution_count": 187,
   "metadata": {},
   "outputs": [],
   "source": [
    "def CP():\n",
    "    sentence = DP(\"SUBJECT\") + VP(\"VERB\")\n",
    "    \n",
    "    args = list(semantics.keys())\n",
    "    for element in [\"SUBJECT\",\"VERB\",\"OBJECT\",\"INDIRECT\",\"NEGATIVE\",\"NULL\"]:\n",
    "        if element in args:\n",
    "            args.remove(element)\n",
    "    \n",
    "    for argument in args:\n",
    "        sentence = sentence + PP(argument)\n",
    "    return sentence"
   ]
  },
  {
   "cell_type": "code",
   "execution_count": 188,
   "metadata": {},
   "outputs": [],
   "source": [
    "def DP(id=\"NULL\"):\n",
    "    s = semantics[id]\n",
    "    # if argument is bare determiner (pronoun, etc.) ...\n",
    "    if s[0]==\"\":\n",
    "        # retrieve pronoun for argument vector\n",
    "        pro = get_pronoun(id)\n",
    "        return [pro]\n",
    "    else:\n",
    "        return D(id) + NP(id)"
   ]
  },
  {
   "cell_type": "code",
   "execution_count": 207,
   "metadata": {},
   "outputs": [],
   "source": [
    "def D(id=\"NULL\"):\n",
    "    s = semantics[id]\n",
    "    if \"DEFINITE\" in s:\n",
    "        return [\"ʔil-\"]\n",
    "    else:\n",
    "        return []"
   ]
  },
  {
   "cell_type": "code",
   "execution_count": 190,
   "metadata": {},
   "outputs": [],
   "source": [
    "def NP(id=\"NULL\"):\n",
    "    s = semantics[id]\n",
    "    w = s[0]\n",
    "    if \"PLURAL\" in s:\n",
    "        w = pluralize(w)\n",
    "    return [w]"
   ]
  },
  {
   "cell_type": "code",
   "execution_count": 191,
   "metadata": {},
   "outputs": [],
   "source": [
    "def VP(id=\"VERB\"):\n",
    "    return V(id) + DP(\"OBJECT\")"
   ]
  },
  {
   "cell_type": "code",
   "execution_count": 192,
   "metadata": {},
   "outputs": [],
   "source": [
    "def PP(id=\"NULL\"):\n",
    "    s = semantics[id]\n",
    "    w = prepositions[id]\n",
    "    return [w] + DP(id)"
   ]
  },
  {
   "cell_type": "code",
   "execution_count": 193,
   "metadata": {},
   "outputs": [],
   "source": [
    "def V(id=\"VERB\"):\n",
    "    vb = conjugate_verb(\"VERB\", \"SUBJECT\")\n",
    "    \n",
    "    # attach direct and indirect object suffixes here\n",
    "    \n",
    "    if semantics[\"NEGATIVE\"]==False:\n",
    "        return vb\n",
    "    else:\n",
    "        return [\"ma:-\"] + vb + [\"-š\"]"
   ]
  },
  {
   "cell_type": "code",
   "execution_count": 244,
   "metadata": {},
   "outputs": [],
   "source": [
    "semantics = {# NOUN: [lemma, person, gender, number, definiteness, animacy]\n",
    "             \"SUBJECT\": [\"\",\"1\",\"FEMININE\",\"PLURAL\",\"\",\"\"],\n",
    "             \n",
    "             \"OBJECT\": [\"ẓarf\",\"\",\"MASCULINE\",\"SINGULAR\",\"DEFINITE\",\"INANIMATE\"],\n",
    "\n",
    "             \"INSTRUMENT\": [\"sikki:naḧ\",\"\",\"FEMININE\",\"SINGULAR\",\"INDEFINITE\",\"INANIMATE\"],\n",
    "\n",
    "             \"NEGATIVE\": True,\n",
    "             \n",
    "             # VERB: [root, TAM, modal]\n",
    "             \"VERB\": [\"fataḥ\", \"PERFECT\", \"\"],\n",
    "    \n",
    "             \"NULL\": []}"
   ]
  },
  {
   "cell_type": "code",
   "execution_count": 245,
   "metadata": {},
   "outputs": [
    {
     "name": "stdout",
     "output_type": "stream",
     "text": [
      "['ʔiḥna:', 'ma:-', 'fataḥ', '-na:', '-š', 'ʔil-', 'ẓarf', 'bi-', 'sikki:naḧ']\n"
     ]
    },
    {
     "data": {
      "text/plain": [
       "'ʔiḥna: ma:-fataḥ-na:-š ʔil-ẓarf bi-sikki:naḧ.'"
      ]
     },
     "execution_count": 245,
     "metadata": {},
     "output_type": "execute_result"
    }
   ],
   "source": [
    "s = CP()\n",
    "print(s)\n",
    "print_sentence(s)"
   ]
  },
  {
   "cell_type": "code",
   "execution_count": 248,
   "metadata": {},
   "outputs": [],
   "source": [
    "def transliterate_to_ar(s):\n",
    "    \n",
    "    s = \"$\" + s\n",
    "    \n",
    "    en_cons = \"ʔbtgḥxdrzsšṣḍṭẓʕġfqklmnhwyḧ \"\n",
    "    ar_cons = \"ابتجحخدرزسشصضطظعغفقكلمنهوية \"\n",
    "    \n",
    "    new_s = \"\"\n",
    "    \n",
    "    for n in range(1, len(s)):\n",
    "        if s[n]==s[n-1]:\n",
    "            new_s += \"ّ\"\n",
    "\n",
    "        \n",
    "        elif s[n] in en_cons:\n",
    "            i = en_cons.find(s[n])\n",
    "            new_s += ar_cons[i]\n",
    "            \n",
    "        elif s[n] == \":\":\n",
    "            if s[n-1] == \"a\":\n",
    "                new_s += \"ا\"\n",
    "            elif s[n-1] in \"ei\":\n",
    "                new_s += \"ي\"\n",
    "            elif s[n-1] in \"ou\":\n",
    "                new_s += \"و\"\n",
    "            \n",
    "    return new_s"
   ]
  },
  {
   "cell_type": "code",
   "execution_count": 249,
   "metadata": {},
   "outputs": [
    {
     "data": {
      "text/plain": [
       "'احنا مافتحناش الظرف بسكّينة'"
      ]
     },
     "execution_count": 249,
     "metadata": {},
     "output_type": "execute_result"
    }
   ],
   "source": [
    "transliterate_to_ar(print_sentence(s))"
   ]
  }
 ],
 "metadata": {
  "kernelspec": {
   "display_name": "Python 3",
   "language": "python",
   "name": "python3"
  },
  "language_info": {
   "codemirror_mode": {
    "name": "ipython",
    "version": 3
   },
   "file_extension": ".py",
   "mimetype": "text/x-python",
   "name": "python",
   "nbconvert_exporter": "python",
   "pygments_lexer": "ipython3",
   "version": "3.7.4"
  }
 },
 "nbformat": 4,
 "nbformat_minor": 2
}
